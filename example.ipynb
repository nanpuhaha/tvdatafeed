{
 "cells": [
  {
   "cell_type": "code",
   "execution_count": 1,
   "metadata": {},
   "outputs": [],
   "source": [
    "import keyring\n",
    "\n",
    "\n",
    "def save_cred():\n",
    "    service_name = input(\"Enter service name:\")\n",
    "    username = input('Enter username:')\n",
    "    password = input('Enter password:')\n",
    "\n",
    "    keyring.set_password(service_name, 'username', username)\n",
    "    keyring.set_password(service_name, username, password)\n",
    "\n",
    "    print('Credentials saved successfully!')\n",
    "\n",
    "\n",
    "def get_cred(service_name):\n",
    "    username = keyring.get_password(service_name, 'username')\n",
    "    password = keyring.get_password(service_name, username)\n",
    "\n",
    "    return username, password"
   ]
  },
  {
   "cell_type": "code",
   "execution_count": null,
   "metadata": {},
   "outputs": [],
   "source": [
    "# save your tradingview username and password\n",
    "save_cred()"
   ]
  },
  {
   "cell_type": "code",
   "execution_count": 2,
   "metadata": {},
   "outputs": [],
   "source": [
    "# load your tradingview username and password\n",
    "username, password = get_cred('tradingview')"
   ]
  },
  {
   "cell_type": "code",
   "execution_count": 3,
   "metadata": {},
   "outputs": [],
   "source": [
    "from tradingview import TvDatafeed, Interval"
   ]
  },
  {
   "cell_type": "code",
   "execution_count": 4,
   "metadata": {},
   "outputs": [],
   "source": [
    "tv = TvDatafeed(username=username, password=password, chromedriver_path=\"C:/chromedriver_win32/chromedriver.exe\")"
   ]
  },
  {
   "cell_type": "code",
   "execution_count": 5,
   "metadata": {},
   "outputs": [
    {
     "data": {
      "text/html": [
       "<div>\n",
       "<style scoped>\n",
       "    .dataframe tbody tr th:only-of-type {\n",
       "        vertical-align: middle;\n",
       "    }\n",
       "\n",
       "    .dataframe tbody tr th {\n",
       "        vertical-align: top;\n",
       "    }\n",
       "\n",
       "    .dataframe thead th {\n",
       "        text-align: right;\n",
       "    }\n",
       "</style>\n",
       "<table border=\"1\" class=\"dataframe\">\n",
       "  <thead>\n",
       "    <tr style=\"text-align: right;\">\n",
       "      <th></th>\n",
       "      <th>symbol</th>\n",
       "      <th>open</th>\n",
       "      <th>high</th>\n",
       "      <th>low</th>\n",
       "      <th>close</th>\n",
       "      <th>volume</th>\n",
       "    </tr>\n",
       "    <tr>\n",
       "      <th>datetime</th>\n",
       "      <th></th>\n",
       "      <th></th>\n",
       "      <th></th>\n",
       "      <th></th>\n",
       "      <th></th>\n",
       "      <th></th>\n",
       "    </tr>\n",
       "  </thead>\n",
       "  <tbody>\n",
       "    <tr>\n",
       "      <th>1.638612e+09</th>\n",
       "      <td>CRYPTOCAP:TOTAL</td>\n",
       "      <td>2.188591e+12</td>\n",
       "      <td>2.196914e+12</td>\n",
       "      <td>2.153274e+12</td>\n",
       "      <td>2.179919e+12</td>\n",
       "      <td>3.541236e+11</td>\n",
       "    </tr>\n",
       "    <tr>\n",
       "      <th>1.638616e+09</th>\n",
       "      <td>CRYPTOCAP:TOTAL</td>\n",
       "      <td>2.179929e+12</td>\n",
       "      <td>2.180777e+12</td>\n",
       "      <td>2.117758e+12</td>\n",
       "      <td>2.140247e+12</td>\n",
       "      <td>3.541236e+11</td>\n",
       "    </tr>\n",
       "    <tr>\n",
       "      <th>1.638619e+09</th>\n",
       "      <td>CRYPTOCAP:TOTAL</td>\n",
       "      <td>2.140056e+12</td>\n",
       "      <td>2.193392e+12</td>\n",
       "      <td>2.139953e+12</td>\n",
       "      <td>2.167713e+12</td>\n",
       "      <td>3.541236e+11</td>\n",
       "    </tr>\n",
       "    <tr>\n",
       "      <th>1.638623e+09</th>\n",
       "      <td>CRYPTOCAP:TOTAL</td>\n",
       "      <td>2.167829e+12</td>\n",
       "      <td>2.192749e+12</td>\n",
       "      <td>2.155327e+12</td>\n",
       "      <td>2.192303e+12</td>\n",
       "      <td>3.541236e+11</td>\n",
       "    </tr>\n",
       "    <tr>\n",
       "      <th>1.638626e+09</th>\n",
       "      <td>CRYPTOCAP:TOTAL</td>\n",
       "      <td>2.192176e+12</td>\n",
       "      <td>2.227795e+12</td>\n",
       "      <td>2.187341e+12</td>\n",
       "      <td>2.227387e+12</td>\n",
       "      <td>3.541236e+11</td>\n",
       "    </tr>\n",
       "  </tbody>\n",
       "</table>\n",
       "</div>"
      ],
      "text/plain": [
       "                       symbol          open          high           low  \\\n",
       "datetime                                                                  \n",
       "1.638612e+09  CRYPTOCAP:TOTAL  2.188591e+12  2.196914e+12  2.153274e+12   \n",
       "1.638616e+09  CRYPTOCAP:TOTAL  2.179929e+12  2.180777e+12  2.117758e+12   \n",
       "1.638619e+09  CRYPTOCAP:TOTAL  2.140056e+12  2.193392e+12  2.139953e+12   \n",
       "1.638623e+09  CRYPTOCAP:TOTAL  2.167829e+12  2.192749e+12  2.155327e+12   \n",
       "1.638626e+09  CRYPTOCAP:TOTAL  2.192176e+12  2.227795e+12  2.187341e+12   \n",
       "\n",
       "                     close        volume  \n",
       "datetime                                  \n",
       "1.638612e+09  2.179919e+12  3.541236e+11  \n",
       "1.638616e+09  2.140247e+12  3.541236e+11  \n",
       "1.638619e+09  2.167713e+12  3.541236e+11  \n",
       "1.638623e+09  2.192303e+12  3.541236e+11  \n",
       "1.638626e+09  2.227387e+12  3.541236e+11  "
      ]
     },
     "execution_count": 5,
     "metadata": {},
     "output_type": "execute_result"
    }
   ],
   "source": [
    "tv_data = tv.get_hist('TOTAL', 'CRYPTOCAP', interval=Interval.in_1_hour, n_bars=10)\n",
    "tv_data.head()"
   ]
  },
  {
   "cell_type": "code",
   "execution_count": 6,
   "metadata": {},
   "outputs": [],
   "source": [
    "from datetime import datetime\n",
    "\n",
    "import pytz\n",
    "\n",
    "KST_TZ = pytz.timezone(\"Asia/Seoul\")\n",
    "UTC_TZ = pytz.timezone(\"UTC\")\n",
    "\n",
    "\n",
    "def get_kst_now():\n",
    "    return datetime.now(KST_TZ).strftime(\"%Y-%m-%d %H;%M;%S.%f %Z\")  # 2021-01-01 01;01;01.000000 KST"
   ]
  },
  {
   "cell_type": "code",
   "execution_count": 7,
   "metadata": {},
   "outputs": [],
   "source": [
    "import os\n",
    "\n",
    "os.makedirs('data', exist_ok=True)\n",
    "\n",
    "\n",
    "def save_data(exchange, symbol):\n",
    "    for interval in Interval:\n",
    "        filename = f'data/{exchange} {symbol} {interval.name} ({get_kst_now()})'\n",
    "        print(filename)\n",
    "        \n",
    "        df = tv.get_hist(symbol, exchange, interval=interval, n_bars=5000)\n",
    "        df.to_csv(f'{filename}.csv')\n",
    "\n",
    "        # with open(f'{filename} raw_data.txt', 'w', encoding='utf-8') as f:\n",
    "        #     f.write(tv.raw_data)"
   ]
  },
  {
   "cell_type": "code",
   "execution_count": 8,
   "metadata": {},
   "outputs": [
    {
     "name": "stdout",
     "output_type": "stream",
     "text": [
      "data/CRYPTOCAP TOTAL in_1_minute (2021-12-06 20;28;44.363180 KST)\n",
      "data/CRYPTOCAP TOTAL in_3_minute (2021-12-06 20;28;47.319718 KST)\n",
      "data/CRYPTOCAP TOTAL in_5_minute (2021-12-06 20;28;49.860371 KST)\n",
      "data/CRYPTOCAP TOTAL in_15_minute (2021-12-06 20;28;52.221920 KST)\n",
      "data/CRYPTOCAP TOTAL in_30_minute (2021-12-06 20;28;54.510996 KST)\n",
      "data/CRYPTOCAP TOTAL in_45_minute (2021-12-06 20;28;58.758586 KST)\n",
      "data/CRYPTOCAP TOTAL in_1_hour (2021-12-06 20;29;03.691663 KST)\n",
      "data/CRYPTOCAP TOTAL in_2_hour (2021-12-06 20;29;06.263330 KST)\n",
      "data/CRYPTOCAP TOTAL in_3_hour (2021-12-06 20;29;09.011407 KST)\n",
      "data/CRYPTOCAP TOTAL in_4_hour (2021-12-06 20;29;11.482975 KST)\n",
      "data/CRYPTOCAP TOTAL in_daily (2021-12-06 20;29;13.688716 KST)\n",
      "data/CRYPTOCAP TOTAL in_weekly (2021-12-06 20;29;15.523532 KST)\n",
      "data/CRYPTOCAP TOTAL in_monthly (2021-12-06 20;29;16.854723 KST)\n"
     ]
    }
   ],
   "source": [
    "save_data('CRYPTOCAP', 'TOTAL')"
   ]
  },
  {
   "cell_type": "code",
   "execution_count": 9,
   "metadata": {},
   "outputs": [
    {
     "name": "stdout",
     "output_type": "stream",
     "text": [
      "data/CRYPTOCAP TOTAL2 in_1_minute (2021-12-06 20;29;18.052145 KST)\n",
      "data/CRYPTOCAP TOTAL2 in_3_minute (2021-12-06 20;29;21.244170 KST)\n",
      "data/CRYPTOCAP TOTAL2 in_5_minute (2021-12-06 20;29;23.262278 KST)\n",
      "data/CRYPTOCAP TOTAL2 in_15_minute (2021-12-06 20;29;25.019231 KST)\n",
      "data/CRYPTOCAP TOTAL2 in_30_minute (2021-12-06 20;29;26.654900 KST)\n",
      "data/CRYPTOCAP TOTAL2 in_45_minute (2021-12-06 20;29;28.570531 KST)\n",
      "data/CRYPTOCAP TOTAL2 in_1_hour (2021-12-06 20;29;30.253925 KST)\n",
      "data/CRYPTOCAP TOTAL2 in_2_hour (2021-12-06 20;29;32.074466 KST)\n",
      "data/CRYPTOCAP TOTAL2 in_3_hour (2021-12-06 20;29;34.136669 KST)\n",
      "data/CRYPTOCAP TOTAL2 in_4_hour (2021-12-06 20;29;36.857651 KST)\n",
      "data/CRYPTOCAP TOTAL2 in_daily (2021-12-06 20;29;39.231330 KST)\n",
      "data/CRYPTOCAP TOTAL2 in_weekly (2021-12-06 20;29;41.808774 KST)\n",
      "data/CRYPTOCAP TOTAL2 in_monthly (2021-12-06 20;29;44.552916 KST)\n"
     ]
    }
   ],
   "source": [
    "save_data('CRYPTOCAP', 'TOTAL2')"
   ]
  },
  {
   "cell_type": "code",
   "execution_count": 10,
   "metadata": {},
   "outputs": [
    {
     "name": "stdout",
     "output_type": "stream",
     "text": [
      "data/CRYPTOCAP TOTAL3 in_1_minute (2021-12-06 20;29;47.171343 KST)\n",
      "data/CRYPTOCAP TOTAL3 in_3_minute (2021-12-06 20;29;52.552942 KST)\n",
      "data/CRYPTOCAP TOTAL3 in_5_minute (2021-12-06 20;29;56.298474 KST)\n",
      "data/CRYPTOCAP TOTAL3 in_15_minute (2021-12-06 20;29;59.705045 KST)\n",
      "data/CRYPTOCAP TOTAL3 in_30_minute (2021-12-06 20;30;03.197829 KST)\n",
      "data/CRYPTOCAP TOTAL3 in_45_minute (2021-12-06 20;30;06.945915 KST)\n",
      "data/CRYPTOCAP TOTAL3 in_1_hour (2021-12-06 20;30;10.223028 KST)\n",
      "data/CRYPTOCAP TOTAL3 in_2_hour (2021-12-06 20;30;13.608739 KST)\n",
      "data/CRYPTOCAP TOTAL3 in_3_hour (2021-12-06 20;30;17.699815 KST)\n",
      "data/CRYPTOCAP TOTAL3 in_4_hour (2021-12-06 20;30;21.519589 KST)\n",
      "data/CRYPTOCAP TOTAL3 in_daily (2021-12-06 20;30;24.952256 KST)\n",
      "data/CRYPTOCAP TOTAL3 in_weekly (2021-12-06 20;30;28.182715 KST)\n",
      "data/CRYPTOCAP TOTAL3 in_monthly (2021-12-06 20;30;30.677231 KST)\n"
     ]
    }
   ],
   "source": [
    "save_data('CRYPTOCAP', 'TOTAL3')"
   ]
  },
  {
   "cell_type": "code",
   "execution_count": 11,
   "metadata": {},
   "outputs": [
    {
     "name": "stdout",
     "output_type": "stream",
     "text": [
      "data/BITHUMB XRPKRW in_1_minute (2021-12-06 20;30;33.091042 KST)\n",
      "data/BITHUMB XRPKRW in_3_minute (2021-12-06 20;30;38.675146 KST)\n",
      "data/BITHUMB XRPKRW in_5_minute (2021-12-06 20;30;43.180098 KST)\n",
      "data/BITHUMB XRPKRW in_15_minute (2021-12-06 20;30;45.112519 KST)\n",
      "data/BITHUMB XRPKRW in_30_minute (2021-12-06 20;30;46.918181 KST)\n",
      "data/BITHUMB XRPKRW in_45_minute (2021-12-06 20;30;52.212947 KST)\n",
      "data/BITHUMB XRPKRW in_1_hour (2021-12-06 20;30;56.008734 KST)\n",
      "data/BITHUMB XRPKRW in_2_hour (2021-12-06 20;30;58.054269 KST)\n",
      "data/BITHUMB XRPKRW in_3_hour (2021-12-06 20;31;01.225164 KST)\n",
      "data/BITHUMB XRPKRW in_4_hour (2021-12-06 20;31;03.891565 KST)\n",
      "data/BITHUMB XRPKRW in_daily (2021-12-06 20;31;05.767285 KST)\n",
      "data/BITHUMB XRPKRW in_weekly (2021-12-06 20;31;06.732941 KST)\n",
      "data/BITHUMB XRPKRW in_monthly (2021-12-06 20;31;07.601977 KST)\n"
     ]
    }
   ],
   "source": [
    "save_data('BITHUMB', 'XRPKRW')"
   ]
  },
  {
   "cell_type": "code",
   "execution_count": null,
   "metadata": {},
   "outputs": [],
   "source": []
  }
 ],
 "metadata": {
  "interpreter": {
   "hash": "7567fd7aca7c4e0b4b83711139c48d25349d935f5985ebb4b100e83383921ebd"
  },
  "kernelspec": {
   "display_name": "Python 3.9.7 64-bit ('rune-breaker': conda)",
   "language": "python",
   "name": "python3"
  },
  "language_info": {
   "codemirror_mode": {
    "name": "ipython",
    "version": 3
   },
   "file_extension": ".py",
   "mimetype": "text/x-python",
   "name": "python",
   "nbconvert_exporter": "python",
   "pygments_lexer": "ipython3",
   "version": "3.9.7"
  },
  "orig_nbformat": 4
 },
 "nbformat": 4,
 "nbformat_minor": 2
}
